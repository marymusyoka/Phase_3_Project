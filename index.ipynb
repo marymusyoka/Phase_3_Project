{
 "cells": [
  {
   "cell_type": "code",
   "execution_count": 2,
   "metadata": {},
   "outputs": [],
   "source": [
    "# Start by importing all the necessary libraries fot our project\n",
    "\n",
    "import pandas as pd\n",
    "import numpy as np\n",
    "import matplotlib.pyplot as plt\n",
    "import seaborn as sns"
   ]
  },
  {
   "cell_type": "markdown",
   "metadata": {},
   "source": [
    "In a dataframe name \"tmdb_df\" load \"tmdb.movies.csv\" file in the cell below using \"pd.read_csv\" format"
   ]
  },
  {
   "cell_type": "markdown",
   "metadata": {},
   "source": [
    "# 1. Data Overview\n",
    "    \n",
    "1.1. Load and Inspect the Data\n",
    "\n",
    "In a dataframe name \"df\" load \"bigml_59c28831336c6604c800002a.csv\" file in the cell below using \"pd.read_csv\" format\n",
    "\n"
   ]
  },
  {
   "cell_type": "code",
   "execution_count": 3,
   "metadata": {},
   "outputs": [
    {
     "data": {
      "text/html": [
       "<div>\n",
       "<style scoped>\n",
       "    .dataframe tbody tr th:only-of-type {\n",
       "        vertical-align: middle;\n",
       "    }\n",
       "\n",
       "    .dataframe tbody tr th {\n",
       "        vertical-align: top;\n",
       "    }\n",
       "\n",
       "    .dataframe thead th {\n",
       "        text-align: right;\n",
       "    }\n",
       "</style>\n",
       "<table border=\"1\" class=\"dataframe\">\n",
       "  <thead>\n",
       "    <tr style=\"text-align: right;\">\n",
       "      <th></th>\n",
       "      <th>state</th>\n",
       "      <th>account length</th>\n",
       "      <th>area code</th>\n",
       "      <th>phone number</th>\n",
       "      <th>international plan</th>\n",
       "      <th>voice mail plan</th>\n",
       "      <th>number vmail messages</th>\n",
       "      <th>total day minutes</th>\n",
       "      <th>total day calls</th>\n",
       "      <th>total day charge</th>\n",
       "      <th>...</th>\n",
       "      <th>total eve calls</th>\n",
       "      <th>total eve charge</th>\n",
       "      <th>total night minutes</th>\n",
       "      <th>total night calls</th>\n",
       "      <th>total night charge</th>\n",
       "      <th>total intl minutes</th>\n",
       "      <th>total intl calls</th>\n",
       "      <th>total intl charge</th>\n",
       "      <th>customer service calls</th>\n",
       "      <th>churn</th>\n",
       "    </tr>\n",
       "  </thead>\n",
       "  <tbody>\n",
       "    <tr>\n",
       "      <th>0</th>\n",
       "      <td>KS</td>\n",
       "      <td>128</td>\n",
       "      <td>415</td>\n",
       "      <td>382-4657</td>\n",
       "      <td>no</td>\n",
       "      <td>yes</td>\n",
       "      <td>25</td>\n",
       "      <td>265.1</td>\n",
       "      <td>110</td>\n",
       "      <td>45.07</td>\n",
       "      <td>...</td>\n",
       "      <td>99</td>\n",
       "      <td>16.78</td>\n",
       "      <td>244.7</td>\n",
       "      <td>91</td>\n",
       "      <td>11.01</td>\n",
       "      <td>10.0</td>\n",
       "      <td>3</td>\n",
       "      <td>2.70</td>\n",
       "      <td>1</td>\n",
       "      <td>False</td>\n",
       "    </tr>\n",
       "    <tr>\n",
       "      <th>1</th>\n",
       "      <td>OH</td>\n",
       "      <td>107</td>\n",
       "      <td>415</td>\n",
       "      <td>371-7191</td>\n",
       "      <td>no</td>\n",
       "      <td>yes</td>\n",
       "      <td>26</td>\n",
       "      <td>161.6</td>\n",
       "      <td>123</td>\n",
       "      <td>27.47</td>\n",
       "      <td>...</td>\n",
       "      <td>103</td>\n",
       "      <td>16.62</td>\n",
       "      <td>254.4</td>\n",
       "      <td>103</td>\n",
       "      <td>11.45</td>\n",
       "      <td>13.7</td>\n",
       "      <td>3</td>\n",
       "      <td>3.70</td>\n",
       "      <td>1</td>\n",
       "      <td>False</td>\n",
       "    </tr>\n",
       "    <tr>\n",
       "      <th>2</th>\n",
       "      <td>NJ</td>\n",
       "      <td>137</td>\n",
       "      <td>415</td>\n",
       "      <td>358-1921</td>\n",
       "      <td>no</td>\n",
       "      <td>no</td>\n",
       "      <td>0</td>\n",
       "      <td>243.4</td>\n",
       "      <td>114</td>\n",
       "      <td>41.38</td>\n",
       "      <td>...</td>\n",
       "      <td>110</td>\n",
       "      <td>10.30</td>\n",
       "      <td>162.6</td>\n",
       "      <td>104</td>\n",
       "      <td>7.32</td>\n",
       "      <td>12.2</td>\n",
       "      <td>5</td>\n",
       "      <td>3.29</td>\n",
       "      <td>0</td>\n",
       "      <td>False</td>\n",
       "    </tr>\n",
       "    <tr>\n",
       "      <th>3</th>\n",
       "      <td>OH</td>\n",
       "      <td>84</td>\n",
       "      <td>408</td>\n",
       "      <td>375-9999</td>\n",
       "      <td>yes</td>\n",
       "      <td>no</td>\n",
       "      <td>0</td>\n",
       "      <td>299.4</td>\n",
       "      <td>71</td>\n",
       "      <td>50.90</td>\n",
       "      <td>...</td>\n",
       "      <td>88</td>\n",
       "      <td>5.26</td>\n",
       "      <td>196.9</td>\n",
       "      <td>89</td>\n",
       "      <td>8.86</td>\n",
       "      <td>6.6</td>\n",
       "      <td>7</td>\n",
       "      <td>1.78</td>\n",
       "      <td>2</td>\n",
       "      <td>False</td>\n",
       "    </tr>\n",
       "    <tr>\n",
       "      <th>4</th>\n",
       "      <td>OK</td>\n",
       "      <td>75</td>\n",
       "      <td>415</td>\n",
       "      <td>330-6626</td>\n",
       "      <td>yes</td>\n",
       "      <td>no</td>\n",
       "      <td>0</td>\n",
       "      <td>166.7</td>\n",
       "      <td>113</td>\n",
       "      <td>28.34</td>\n",
       "      <td>...</td>\n",
       "      <td>122</td>\n",
       "      <td>12.61</td>\n",
       "      <td>186.9</td>\n",
       "      <td>121</td>\n",
       "      <td>8.41</td>\n",
       "      <td>10.1</td>\n",
       "      <td>3</td>\n",
       "      <td>2.73</td>\n",
       "      <td>3</td>\n",
       "      <td>False</td>\n",
       "    </tr>\n",
       "  </tbody>\n",
       "</table>\n",
       "<p>5 rows × 21 columns</p>\n",
       "</div>"
      ],
      "text/plain": [
       "  state  account length  area code phone number international plan  \\\n",
       "0    KS             128        415     382-4657                 no   \n",
       "1    OH             107        415     371-7191                 no   \n",
       "2    NJ             137        415     358-1921                 no   \n",
       "3    OH              84        408     375-9999                yes   \n",
       "4    OK              75        415     330-6626                yes   \n",
       "\n",
       "  voice mail plan  number vmail messages  total day minutes  total day calls  \\\n",
       "0             yes                     25              265.1              110   \n",
       "1             yes                     26              161.6              123   \n",
       "2              no                      0              243.4              114   \n",
       "3              no                      0              299.4               71   \n",
       "4              no                      0              166.7              113   \n",
       "\n",
       "   total day charge  ...  total eve calls  total eve charge  \\\n",
       "0             45.07  ...               99             16.78   \n",
       "1             27.47  ...              103             16.62   \n",
       "2             41.38  ...              110             10.30   \n",
       "3             50.90  ...               88              5.26   \n",
       "4             28.34  ...              122             12.61   \n",
       "\n",
       "   total night minutes  total night calls  total night charge  \\\n",
       "0                244.7                 91               11.01   \n",
       "1                254.4                103               11.45   \n",
       "2                162.6                104                7.32   \n",
       "3                196.9                 89                8.86   \n",
       "4                186.9                121                8.41   \n",
       "\n",
       "   total intl minutes  total intl calls  total intl charge  \\\n",
       "0                10.0                 3               2.70   \n",
       "1                13.7                 3               3.70   \n",
       "2                12.2                 5               3.29   \n",
       "3                 6.6                 7               1.78   \n",
       "4                10.1                 3               2.73   \n",
       "\n",
       "   customer service calls  churn  \n",
       "0                       1  False  \n",
       "1                       1  False  \n",
       "2                       0  False  \n",
       "3                       2  False  \n",
       "4                       3  False  \n",
       "\n",
       "[5 rows x 21 columns]"
      ]
     },
     "execution_count": 3,
     "metadata": {},
     "output_type": "execute_result"
    }
   ],
   "source": [
    "df = pd.read_csv(\"Data/bigml_59c28831336c6604c800002a.csv\")\n",
    "df.head()"
   ]
  },
  {
   "cell_type": "markdown",
   "metadata": {},
   "source": [
    "Now lets get familiar with the data we have in our df. This step will include\n",
    "1. Understanding the dimentionality of our dataset\n",
    "2. Investigating what type of data it contains, and the data types used to store it\n",
    "3. Dicovering how missing values are encoded, and how many there are\n",
    "4. Getting a feel for what information it does and doesn't contain\n",
    "\n",
    "1.2 In the cell below,lets inspect the info printout of the dataframe"
   ]
  },
  {
   "cell_type": "code",
   "execution_count": 4,
   "metadata": {},
   "outputs": [
    {
     "name": "stdout",
     "output_type": "stream",
     "text": [
      "<class 'pandas.core.frame.DataFrame'>\n",
      "RangeIndex: 3333 entries, 0 to 3332\n",
      "Data columns (total 21 columns):\n",
      " #   Column                  Non-Null Count  Dtype  \n",
      "---  ------                  --------------  -----  \n",
      " 0   state                   3333 non-null   object \n",
      " 1   account length          3333 non-null   int64  \n",
      " 2   area code               3333 non-null   int64  \n",
      " 3   phone number            3333 non-null   object \n",
      " 4   international plan      3333 non-null   object \n",
      " 5   voice mail plan         3333 non-null   object \n",
      " 6   number vmail messages   3333 non-null   int64  \n",
      " 7   total day minutes       3333 non-null   float64\n",
      " 8   total day calls         3333 non-null   int64  \n",
      " 9   total day charge        3333 non-null   float64\n",
      " 10  total eve minutes       3333 non-null   float64\n",
      " 11  total eve calls         3333 non-null   int64  \n",
      " 12  total eve charge        3333 non-null   float64\n",
      " 13  total night minutes     3333 non-null   float64\n",
      " 14  total night calls       3333 non-null   int64  \n",
      " 15  total night charge      3333 non-null   float64\n",
      " 16  total intl minutes      3333 non-null   float64\n",
      " 17  total intl calls        3333 non-null   int64  \n",
      " 18  total intl charge       3333 non-null   float64\n",
      " 19  customer service calls  3333 non-null   int64  \n",
      " 20  churn                   3333 non-null   bool   \n",
      "dtypes: bool(1), float64(8), int64(8), object(4)\n",
      "memory usage: 524.2+ KB\n"
     ]
    }
   ],
   "source": [
    "df.info()"
   ]
  },
  {
   "cell_type": "markdown",
   "metadata": {},
   "source": [
    "The info() printout has provided us with a summary of our dataset, revealing key details about its structure and contents. Here's a brief explanation:\n",
    "\n",
    "Number of Entries: The dataset contains 3,333 rows, indicating the number of records available for analysis.\n",
    "\n",
    "Number of Columns: There are 21 columns, which include both features and the target variable (churn).\n",
    "\n",
    "Data Types:\n",
    "\n",
    "8 integer columns (int64): These likely represent counts or other discrete values (e.g., account length, number vmail messages).\n",
    "\n",
    "8 float columns (float64): These are continuous numerical features (e.g., total day minutes, total day charge).\n",
    "\n",
    "4 object columns (object): These are categorical variables (e.g., state, phone number, international plan).\n",
    "\n",
    "One column (customer_id): This is a unique identifier for each customer.\n",
    "\n",
    "1 boolean column (bool): The churn column, indicating whether a customer churned (True) or not (False).\n",
    "\n",
    "Non-Null Counts: All columns have 3,333 non-null entries, meaning there are no missing values in the dataset.\n",
    "\n"
   ]
  },
  {
   "cell_type": "markdown",
   "metadata": {},
   "source": [
    "\n",
    "1.3. We look for shape of our dataframe"
   ]
  },
  {
   "cell_type": "code",
   "execution_count": 6,
   "metadata": {},
   "outputs": [
    {
     "data": {
      "text/plain": [
       "(3333, 21)"
      ]
     },
     "execution_count": 6,
     "metadata": {},
     "output_type": "execute_result"
    }
   ],
   "source": [
    "df.shape"
   ]
  },
  {
   "cell_type": "markdown",
   "metadata": {},
   "source": [
    "The shape (3333, 21) tells us that our dataset contains 3,333 records, with 21 features for each record. This is a key piece of information for understanding the size and complexity of the data we're working with."
   ]
  },
  {
   "cell_type": "markdown",
   "metadata": {},
   "source": [
    "1.4. Summary Statistics\n",
    "\n",
    "We now get a summary of numerical features and\n",
    "Look at the distribution of categorical features."
   ]
  },
  {
   "cell_type": "code",
   "execution_count": 6,
   "metadata": {},
   "outputs": [
    {
     "data": {
      "text/html": [
       "<div>\n",
       "<style scoped>\n",
       "    .dataframe tbody tr th:only-of-type {\n",
       "        vertical-align: middle;\n",
       "    }\n",
       "\n",
       "    .dataframe tbody tr th {\n",
       "        vertical-align: top;\n",
       "    }\n",
       "\n",
       "    .dataframe thead th {\n",
       "        text-align: right;\n",
       "    }\n",
       "</style>\n",
       "<table border=\"1\" class=\"dataframe\">\n",
       "  <thead>\n",
       "    <tr style=\"text-align: right;\">\n",
       "      <th></th>\n",
       "      <th>account length</th>\n",
       "      <th>area code</th>\n",
       "      <th>number vmail messages</th>\n",
       "      <th>total day minutes</th>\n",
       "      <th>total day calls</th>\n",
       "      <th>total day charge</th>\n",
       "      <th>total eve minutes</th>\n",
       "      <th>total eve calls</th>\n",
       "      <th>total eve charge</th>\n",
       "      <th>total night minutes</th>\n",
       "      <th>total night calls</th>\n",
       "      <th>total night charge</th>\n",
       "      <th>total intl minutes</th>\n",
       "      <th>total intl calls</th>\n",
       "      <th>total intl charge</th>\n",
       "      <th>customer service calls</th>\n",
       "    </tr>\n",
       "  </thead>\n",
       "  <tbody>\n",
       "    <tr>\n",
       "      <th>count</th>\n",
       "      <td>3333.000000</td>\n",
       "      <td>3333.000000</td>\n",
       "      <td>3333.000000</td>\n",
       "      <td>3333.000000</td>\n",
       "      <td>3333.000000</td>\n",
       "      <td>3333.000000</td>\n",
       "      <td>3333.000000</td>\n",
       "      <td>3333.000000</td>\n",
       "      <td>3333.000000</td>\n",
       "      <td>3333.000000</td>\n",
       "      <td>3333.000000</td>\n",
       "      <td>3333.000000</td>\n",
       "      <td>3333.000000</td>\n",
       "      <td>3333.000000</td>\n",
       "      <td>3333.000000</td>\n",
       "      <td>3333.000000</td>\n",
       "    </tr>\n",
       "    <tr>\n",
       "      <th>mean</th>\n",
       "      <td>101.064806</td>\n",
       "      <td>437.182418</td>\n",
       "      <td>8.099010</td>\n",
       "      <td>179.775098</td>\n",
       "      <td>100.435644</td>\n",
       "      <td>30.562307</td>\n",
       "      <td>200.980348</td>\n",
       "      <td>100.114311</td>\n",
       "      <td>17.083540</td>\n",
       "      <td>200.872037</td>\n",
       "      <td>100.107711</td>\n",
       "      <td>9.039325</td>\n",
       "      <td>10.237294</td>\n",
       "      <td>4.479448</td>\n",
       "      <td>2.764581</td>\n",
       "      <td>1.562856</td>\n",
       "    </tr>\n",
       "    <tr>\n",
       "      <th>std</th>\n",
       "      <td>39.822106</td>\n",
       "      <td>42.371290</td>\n",
       "      <td>13.688365</td>\n",
       "      <td>54.467389</td>\n",
       "      <td>20.069084</td>\n",
       "      <td>9.259435</td>\n",
       "      <td>50.713844</td>\n",
       "      <td>19.922625</td>\n",
       "      <td>4.310668</td>\n",
       "      <td>50.573847</td>\n",
       "      <td>19.568609</td>\n",
       "      <td>2.275873</td>\n",
       "      <td>2.791840</td>\n",
       "      <td>2.461214</td>\n",
       "      <td>0.753773</td>\n",
       "      <td>1.315491</td>\n",
       "    </tr>\n",
       "    <tr>\n",
       "      <th>min</th>\n",
       "      <td>1.000000</td>\n",
       "      <td>408.000000</td>\n",
       "      <td>0.000000</td>\n",
       "      <td>0.000000</td>\n",
       "      <td>0.000000</td>\n",
       "      <td>0.000000</td>\n",
       "      <td>0.000000</td>\n",
       "      <td>0.000000</td>\n",
       "      <td>0.000000</td>\n",
       "      <td>23.200000</td>\n",
       "      <td>33.000000</td>\n",
       "      <td>1.040000</td>\n",
       "      <td>0.000000</td>\n",
       "      <td>0.000000</td>\n",
       "      <td>0.000000</td>\n",
       "      <td>0.000000</td>\n",
       "    </tr>\n",
       "    <tr>\n",
       "      <th>25%</th>\n",
       "      <td>74.000000</td>\n",
       "      <td>408.000000</td>\n",
       "      <td>0.000000</td>\n",
       "      <td>143.700000</td>\n",
       "      <td>87.000000</td>\n",
       "      <td>24.430000</td>\n",
       "      <td>166.600000</td>\n",
       "      <td>87.000000</td>\n",
       "      <td>14.160000</td>\n",
       "      <td>167.000000</td>\n",
       "      <td>87.000000</td>\n",
       "      <td>7.520000</td>\n",
       "      <td>8.500000</td>\n",
       "      <td>3.000000</td>\n",
       "      <td>2.300000</td>\n",
       "      <td>1.000000</td>\n",
       "    </tr>\n",
       "    <tr>\n",
       "      <th>50%</th>\n",
       "      <td>101.000000</td>\n",
       "      <td>415.000000</td>\n",
       "      <td>0.000000</td>\n",
       "      <td>179.400000</td>\n",
       "      <td>101.000000</td>\n",
       "      <td>30.500000</td>\n",
       "      <td>201.400000</td>\n",
       "      <td>100.000000</td>\n",
       "      <td>17.120000</td>\n",
       "      <td>201.200000</td>\n",
       "      <td>100.000000</td>\n",
       "      <td>9.050000</td>\n",
       "      <td>10.300000</td>\n",
       "      <td>4.000000</td>\n",
       "      <td>2.780000</td>\n",
       "      <td>1.000000</td>\n",
       "    </tr>\n",
       "    <tr>\n",
       "      <th>75%</th>\n",
       "      <td>127.000000</td>\n",
       "      <td>510.000000</td>\n",
       "      <td>20.000000</td>\n",
       "      <td>216.400000</td>\n",
       "      <td>114.000000</td>\n",
       "      <td>36.790000</td>\n",
       "      <td>235.300000</td>\n",
       "      <td>114.000000</td>\n",
       "      <td>20.000000</td>\n",
       "      <td>235.300000</td>\n",
       "      <td>113.000000</td>\n",
       "      <td>10.590000</td>\n",
       "      <td>12.100000</td>\n",
       "      <td>6.000000</td>\n",
       "      <td>3.270000</td>\n",
       "      <td>2.000000</td>\n",
       "    </tr>\n",
       "    <tr>\n",
       "      <th>max</th>\n",
       "      <td>243.000000</td>\n",
       "      <td>510.000000</td>\n",
       "      <td>51.000000</td>\n",
       "      <td>350.800000</td>\n",
       "      <td>165.000000</td>\n",
       "      <td>59.640000</td>\n",
       "      <td>363.700000</td>\n",
       "      <td>170.000000</td>\n",
       "      <td>30.910000</td>\n",
       "      <td>395.000000</td>\n",
       "      <td>175.000000</td>\n",
       "      <td>17.770000</td>\n",
       "      <td>20.000000</td>\n",
       "      <td>20.000000</td>\n",
       "      <td>5.400000</td>\n",
       "      <td>9.000000</td>\n",
       "    </tr>\n",
       "  </tbody>\n",
       "</table>\n",
       "</div>"
      ],
      "text/plain": [
       "       account length    area code  number vmail messages  total day minutes  \\\n",
       "count     3333.000000  3333.000000            3333.000000        3333.000000   \n",
       "mean       101.064806   437.182418               8.099010         179.775098   \n",
       "std         39.822106    42.371290              13.688365          54.467389   \n",
       "min          1.000000   408.000000               0.000000           0.000000   \n",
       "25%         74.000000   408.000000               0.000000         143.700000   \n",
       "50%        101.000000   415.000000               0.000000         179.400000   \n",
       "75%        127.000000   510.000000              20.000000         216.400000   \n",
       "max        243.000000   510.000000              51.000000         350.800000   \n",
       "\n",
       "       total day calls  total day charge  total eve minutes  total eve calls  \\\n",
       "count      3333.000000       3333.000000        3333.000000      3333.000000   \n",
       "mean        100.435644         30.562307         200.980348       100.114311   \n",
       "std          20.069084          9.259435          50.713844        19.922625   \n",
       "min           0.000000          0.000000           0.000000         0.000000   \n",
       "25%          87.000000         24.430000         166.600000        87.000000   \n",
       "50%         101.000000         30.500000         201.400000       100.000000   \n",
       "75%         114.000000         36.790000         235.300000       114.000000   \n",
       "max         165.000000         59.640000         363.700000       170.000000   \n",
       "\n",
       "       total eve charge  total night minutes  total night calls  \\\n",
       "count       3333.000000          3333.000000        3333.000000   \n",
       "mean          17.083540           200.872037         100.107711   \n",
       "std            4.310668            50.573847          19.568609   \n",
       "min            0.000000            23.200000          33.000000   \n",
       "25%           14.160000           167.000000          87.000000   \n",
       "50%           17.120000           201.200000         100.000000   \n",
       "75%           20.000000           235.300000         113.000000   \n",
       "max           30.910000           395.000000         175.000000   \n",
       "\n",
       "       total night charge  total intl minutes  total intl calls  \\\n",
       "count         3333.000000         3333.000000       3333.000000   \n",
       "mean             9.039325           10.237294          4.479448   \n",
       "std              2.275873            2.791840          2.461214   \n",
       "min              1.040000            0.000000          0.000000   \n",
       "25%              7.520000            8.500000          3.000000   \n",
       "50%              9.050000           10.300000          4.000000   \n",
       "75%             10.590000           12.100000          6.000000   \n",
       "max             17.770000           20.000000         20.000000   \n",
       "\n",
       "       total intl charge  customer service calls  \n",
       "count        3333.000000             3333.000000  \n",
       "mean            2.764581                1.562856  \n",
       "std             0.753773                1.315491  \n",
       "min             0.000000                0.000000  \n",
       "25%             2.300000                1.000000  \n",
       "50%             2.780000                1.000000  \n",
       "75%             3.270000                2.000000  \n",
       "max             5.400000                9.000000  "
      ]
     },
     "execution_count": 6,
     "metadata": {},
     "output_type": "execute_result"
    }
   ],
   "source": [
    "df.describe()"
   ]
  },
  {
   "cell_type": "markdown",
   "metadata": {},
   "source": [
    "2. Data Cleaning\n",
    "\n",
    "    2.1. Missing Values\n",
    "\n",
    "Check for missing values and handle them appropriately (e.g., imputation or removal).\n",
    "python\n"
   ]
  },
  {
   "cell_type": "code",
   "execution_count": 8,
   "metadata": {},
   "outputs": [
    {
     "data": {
      "text/plain": [
       "state                     0\n",
       "account length            0\n",
       "area code                 0\n",
       "phone number              0\n",
       "international plan        0\n",
       "voice mail plan           0\n",
       "number vmail messages     0\n",
       "total day minutes         0\n",
       "total day calls           0\n",
       "total day charge          0\n",
       "total eve minutes         0\n",
       "total eve calls           0\n",
       "total eve charge          0\n",
       "total night minutes       0\n",
       "total night calls         0\n",
       "total night charge        0\n",
       "total intl minutes        0\n",
       "total intl calls          0\n",
       "total intl charge         0\n",
       "customer service calls    0\n",
       "churn                     0\n",
       "dtype: int64"
      ]
     },
     "execution_count": 8,
     "metadata": {},
     "output_type": "execute_result"
    }
   ],
   "source": [
    "df.isnull().sum()"
   ]
  },
  {
   "cell_type": "markdown",
   "metadata": {},
   "source": [
    "2.2. Data Types\n",
    "\n",
    "Ensure that each column has the correct data type. Convert if necessary."
   ]
  },
  {
   "cell_type": "code",
   "execution_count": 11,
   "metadata": {},
   "outputs": [
    {
     "data": {
      "text/plain": [
       "state                      object\n",
       "account length              int64\n",
       "area code                   int64\n",
       "phone number               object\n",
       "international plan         object\n",
       "voice mail plan            object\n",
       "number vmail messages       int64\n",
       "total day minutes         float64\n",
       "total day calls             int64\n",
       "total day charge          float64\n",
       "total eve minutes         float64\n",
       "total eve calls             int64\n",
       "total eve charge          float64\n",
       "total night minutes       float64\n",
       "total night calls           int64\n",
       "total night charge        float64\n",
       "total intl minutes        float64\n",
       "total intl calls            int64\n",
       "total intl charge         float64\n",
       "customer service calls      int64\n",
       "churn                        bool\n",
       "dtype: object"
      ]
     },
     "execution_count": 11,
     "metadata": {},
     "output_type": "execute_result"
    }
   ],
   "source": [
    "df.dtypes"
   ]
  },
  {
   "cell_type": "markdown",
   "metadata": {},
   "source": [
    "2.3. Unique Values\n",
    "\n",
    "Inspect unique values in categorical columns to ensure there are no anomalies."
   ]
  },
  {
   "cell_type": "code",
   "execution_count": 12,
   "metadata": {},
   "outputs": [
    {
     "name": "stdout",
     "output_type": "stream",
     "text": [
      "state unique values: ['KS' 'OH' 'NJ' 'OK' 'AL' 'MA' 'MO' 'LA' 'WV' 'IN' 'RI' 'IA' 'MT' 'NY'\n",
      " 'ID' 'VT' 'VA' 'TX' 'FL' 'CO' 'AZ' 'SC' 'NE' 'WY' 'HI' 'IL' 'NH' 'GA'\n",
      " 'AK' 'MD' 'AR' 'WI' 'OR' 'MI' 'DE' 'UT' 'CA' 'MN' 'SD' 'NC' 'WA' 'NM'\n",
      " 'NV' 'DC' 'KY' 'ME' 'MS' 'TN' 'PA' 'CT' 'ND']\n",
      "phone number unique values: ['382-4657' '371-7191' '358-1921' ... '328-8230' '364-6381' '400-4344']\n",
      "international plan unique values: ['no' 'yes']\n",
      "voice mail plan unique values: ['yes' 'no']\n"
     ]
    }
   ],
   "source": [
    "for column in df.select_dtypes(include=['object']).columns:\n",
    "    print(f'{column} unique values: {df[column].unique()}')"
   ]
  },
  {
   "cell_type": "markdown",
   "metadata": {},
   "source": [
    "3.2. Categorical Features\n",
    "\n",
    "Use bar plots to show the distribution of categories."
   ]
  },
  {
   "cell_type": "code",
   "execution_count": 15,
   "metadata": {},
   "outputs": [
    {
     "data": {
      "image/png": "[encoded data removed]",
      "text/plain": [
       "<Figure size 432x288 with 1 Axes>"
      ]
     },
     "metadata": {
      "needs_background": "light"
     },
     "output_type": "display_data"
    },
    {
     "data": {
      "image/png": "[encoded data removed]",
      "text/plain": [
       "<Figure size 432x288 with 1 Axes>"
      ]
     },
     "metadata": {
      "needs_background": "light"
     },
     "output_type": "display_data"
    },
    {
     "data": {
      "image/png": "[encoded data removed]",
      "text/plain": [
       "<Figure size 432x288 with 1 Axes>"
      ]
     },
     "metadata": {
      "needs_background": "light"
     },
     "output_type": "display_data"
    },
    {
     "data": {
      "image/png": "[encoded data removed]",
      "text/plain": [
       "<Figure size 432x288 with 1 Axes>"
      ]
     },
     "metadata": {
      "needs_background": "light"
     },
     "output_type": "display_data"
    }
   ],
   "source": [
    "for column in df.select_dtypes(include=['object']).columns:\n",
    "    sns.countplot(data=df, x=column)\n",
    "    plt.title(f'Distribution of {column}')\n",
    "    plt.xticks(rotation=45)\n",
    "    plt.show()"
   ]
  },
  {
   "cell_type": "markdown",
   "metadata": {},
   "source": [
    "1.2. Overview of Categorical Features\n",
    "\n",
    "Check the distribution of categorical features."
   ]
  },
  {
   "cell_type": "code",
   "execution_count": 20,
   "metadata": {},
   "outputs": [
    {
     "name": "stdout",
     "output_type": "stream",
     "text": [
      "state value counts:\n",
      "WV    106\n",
      "MN     84\n",
      "NY     83\n",
      "AL     80\n",
      "OH     78\n",
      "OR     78\n",
      "WI     78\n",
      "WY     77\n",
      "VA     77\n",
      "CT     74\n",
      "ID     73\n",
      "MI     73\n",
      "VT     73\n",
      "UT     72\n",
      "TX     72\n",
      "IN     71\n",
      "KS     70\n",
      "MD     70\n",
      "NC     68\n",
      "NJ     68\n",
      "MT     68\n",
      "CO     66\n",
      "WA     66\n",
      "NV     66\n",
      "MA     65\n",
      "RI     65\n",
      "MS     65\n",
      "AZ     64\n",
      "FL     63\n",
      "MO     63\n",
      "ME     62\n",
      "NM     62\n",
      "ND     62\n",
      "OK     61\n",
      "DE     61\n",
      "NE     61\n",
      "SD     60\n",
      "SC     60\n",
      "KY     59\n",
      "IL     58\n",
      "NH     56\n",
      "AR     55\n",
      "DC     54\n",
      "GA     54\n",
      "TN     53\n",
      "HI     53\n",
      "AK     52\n",
      "LA     51\n",
      "PA     45\n",
      "IA     44\n",
      "CA     34\n",
      "Name: state, dtype: int64\n",
      "\n",
      "phone number value counts:\n",
      "388-6479    1\n",
      "368-5437    1\n",
      "360-5636    1\n",
      "346-1095    1\n",
      "344-7470    1\n",
      "           ..\n",
      "363-1719    1\n",
      "387-6440    1\n",
      "365-6205    1\n",
      "333-5551    1\n",
      "342-8348    1\n",
      "Name: phone number, Length: 3333, dtype: int64\n",
      "\n",
      "international plan value counts:\n",
      "no     3010\n",
      "yes     323\n",
      "Name: international plan, dtype: int64\n",
      "\n",
      "voice mail plan value counts:\n",
      "no     2411\n",
      "yes     922\n",
      "Name: voice mail plan, dtype: int64\n",
      "\n"
     ]
    }
   ],
   "source": [
    "for column in df.select_dtypes(include=['object']).columns:\n",
    "    print(f'{column} value counts:\\n{df[column].value_counts()}\\n')"
   ]
  },
  {
   "cell_type": "markdown",
   "metadata": {},
   "source": [
    "1.3. Churn Distribution\n",
    "\n",
    "Examine the distribution of the target variable (churn)."
   ]
  },
  {
   "cell_type": "code",
   "execution_count": 21,
   "metadata": {},
   "outputs": [
    {
     "name": "stdout",
     "output_type": "stream",
     "text": [
      "False    2850\n",
      "True      483\n",
      "Name: churn, dtype: int64\n"
     ]
    }
   ],
   "source": [
    "print(df['churn'].value_counts())"
   ]
  },
  {
   "cell_type": "markdown",
   "metadata": {},
   "source": [
    "2. Data Preprocessing\n",
    "   \n",
    "   2.1. Convert Categorical Variables\n",
    "\n",
    "Convert categorical features to numerical using one-hot encoding."
   ]
  },
  {
   "cell_type": "code",
   "execution_count": 22,
   "metadata": {},
   "outputs": [],
   "source": [
    "df = pd.get_dummies(df, columns=['state', 'international plan', 'voice mail plan'], drop_first=True)"
   ]
  },
  {
   "cell_type": "markdown",
   "metadata": {},
   "source": [
    "2.2. Feature and Target Variable\n",
    "\n",
    "Separate features and target variable."
   ]
  },
  {
   "cell_type": "code",
   "execution_count": 24,
   "metadata": {},
   "outputs": [],
   "source": [
    "X = df.drop(['churn', 'phone number'], axis=1)  # Drop 'phone number' as it's likely not useful for prediction\n",
    "y = df['churn']"
   ]
  },
  {
   "cell_type": "markdown",
   "metadata": {},
   "source": [
    "# 3. Data Splitting\n",
    "  \n",
    "    ## 3.1. Split the Data\n",
    "\n",
    "Divide the data into training and testing sets."
   ]
  },
  {
   "cell_type": "code",
   "execution_count": 25,
   "metadata": {},
   "outputs": [],
   "source": [
    "from sklearn.model_selection import train_test_split\n",
    "\n",
    "X_train, X_test, y_train, y_test = train_test_split(X, y, test_size=0.3, random_state=42)"
   ]
  },
  {
   "cell_type": "markdown",
   "metadata": {},
   "source": [
    "# 4. Model Building\n",
    "  4.1. Logistic Regression"
   ]
  },
  {
   "cell_type": "code",
   "execution_count": 26,
   "metadata": {},
   "outputs": [
    {
     "name": "stdout",
     "output_type": "stream",
     "text": [
      "[[849   8]\n",
      " [135   8]]\n",
      "              precision    recall  f1-score   support\n",
      "\n",
      "       False       0.86      0.99      0.92       857\n",
      "        True       0.50      0.06      0.10       143\n",
      "\n",
      "    accuracy                           0.86      1000\n",
      "   macro avg       0.68      0.52      0.51      1000\n",
      "weighted avg       0.81      0.86      0.80      1000\n",
      "\n"
     ]
    },
    {
     "name": "stderr",
     "output_type": "stream",
     "text": [
      "c:\\Users\\MARY\\anaconda3\\envs\\learn-env\\lib\\site-packages\\sklearn\\linear_model\\_logistic.py:460: ConvergenceWarning: lbfgs failed to converge (status=1):\n",
      "STOP: TOTAL NO. of ITERATIONS REACHED LIMIT.\n",
      "\n",
      "Increase the number of iterations (max_iter) or scale the data as shown in:\n",
      "    https://scikit-learn.org/stable/modules/preprocessing.html\n",
      "Please also refer to the documentation for alternative solver options:\n",
      "    https://scikit-learn.org/stable/modules/linear_model.html#logistic-regression\n",
      "  n_iter_i = _check_optimize_result(\n"
     ]
    }
   ],
   "source": [
    "from sklearn.linear_model import LogisticRegression\n",
    "from sklearn.metrics import classification_report, confusion_matrix\n",
    "\n",
    "# Initialize and train the model\n",
    "log_reg = LogisticRegression(random_state=42)\n",
    "log_reg.fit(X_train, y_train)\n",
    "\n",
    "# Make predictions\n",
    "y_pred = log_reg.predict(X_test)\n",
    "\n",
    "# Evaluate the model\n",
    "print(confusion_matrix(y_test, y_pred))\n",
    "print(classification_report(y_test, y_pred))"
   ]
  },
  {
   "cell_type": "markdown",
   "metadata": {},
   "source": [
    "4.2. Random Forest Classifier"
   ]
  },
  {
   "cell_type": "code",
   "execution_count": 27,
   "metadata": {},
   "outputs": [
    {
     "name": "stdout",
     "output_type": "stream",
     "text": [
      "[[856   1]\n",
      " [ 60  83]]\n",
      "              precision    recall  f1-score   support\n",
      "\n",
      "       False       0.93      1.00      0.97       857\n",
      "        True       0.99      0.58      0.73       143\n",
      "\n",
      "    accuracy                           0.94      1000\n",
      "   macro avg       0.96      0.79      0.85      1000\n",
      "weighted avg       0.94      0.94      0.93      1000\n",
      "\n"
     ]
    }
   ],
   "source": [
    "from sklearn.ensemble import RandomForestClassifier\n",
    "\n",
    "# Initialize and train the model\n",
    "rf_clf = RandomForestClassifier(random_state=42)\n",
    "rf_clf.fit(X_train, y_train)\n",
    "\n",
    "# Make predictions\n",
    "rf_y_pred = rf_clf.predict(X_test)\n",
    "\n",
    "# Evaluate the model\n",
    "print(confusion_matrix(y_test, rf_y_pred))\n",
    "print(classification_report(y_test, rf_y_pred))"
   ]
  },
  {
   "cell_type": "markdown",
   "metadata": {},
   "source": [
    "# 5. Feature Importance\n",
    "  \n",
    "  5.1. Analyze Feature Importance\n",
    "\n",
    "Check feature importance from the Random Forest model."
   ]
  },
  {
   "cell_type": "code",
   "execution_count": 28,
   "metadata": {},
   "outputs": [
    {
     "name": "stdout",
     "output_type": "stream",
     "text": [
      "                   Feature  Importance\n",
      "5         total day charge    0.127207\n",
      "3        total day minutes    0.115827\n",
      "15  customer service calls    0.105351\n",
      "66  international plan_yes    0.069539\n",
      "8         total eve charge    0.057186\n",
      "..                     ...         ...\n",
      "51                state_OK    0.000776\n",
      "26                state_HI    0.000669\n",
      "43                state_ND    0.000654\n",
      "27                state_IA    0.000652\n",
      "39                state_MO    0.000614\n",
      "\n",
      "[68 rows x 2 columns]\n"
     ]
    }
   ],
   "source": [
    "importances = rf_clf.feature_importances_\n",
    "feature_names = X.columns\n",
    "\n",
    "# Create a DataFrame for feature importances\n",
    "feature_importance_df = pd.DataFrame({'Feature': feature_names, 'Importance': importances})\n",
    "feature_importance_df = feature_importance_df.sort_values(by='Importance', ascending=False)\n",
    "\n",
    "print(feature_importance_df)"
   ]
  },
  {
   "cell_type": "markdown",
   "metadata": {},
   "source": [
    "# 6. Model Evaluation\n",
    "  \n",
    "   6.1. ROC Curve and AUC"
   ]
  },
  {
   "cell_type": "code",
   "execution_count": 29,
   "metadata": {},
   "outputs": [
    {
     "data": {
      "image/png": "[encoded data removed]",
      "text/plain": [
       "<Figure size 432x288 with 1 Axes>"
      ]
     },
     "metadata": {
      "needs_background": "light"
     },
     "output_type": "display_data"
    }
   ],
   "source": [
    "from sklearn.metrics import roc_curve, auc\n",
    "import matplotlib.pyplot as plt\n",
    "\n",
    "# Get the probability scores\n",
    "y_probs = rf_clf.predict_proba(X_test)[:, 1]\n",
    "\n",
    "# Compute ROC curve and AUC\n",
    "fpr, tpr, _ = roc_curve(y_test, y_probs)\n",
    "roc_auc = auc(fpr, tpr)\n",
    "\n",
    "plt.figure()\n",
    "plt.plot(fpr, tpr, color='darkorange', lw=2, label=f'ROC curve (area = {roc_auc:.2f})')\n",
    "plt.plot([0, 1], [0, 1], color='navy', lw=2, linestyle='--')\n",
    "plt.xlim([0.0, 1.0])\n",
    "plt.ylim([0.0, 1.05])\n",
    "plt.xlabel('False Positive Rate')\n",
    "plt.ylabel('True Positive Rate')\n",
    "plt.title('Receiver Operating Characteristic')\n",
    "plt.legend(loc='lower right')\n",
    "plt.show()"
   ]
  },
  {
   "cell_type": "markdown",
   "metadata": {},
   "source": [
    "7.2. Provide Recommendations\n",
    "\n",
    "Based on the model’s predictions and feature importances, suggest strategies to reduce churn (e.g., targeted promotions, improved customer service).\n",
    "Feel free to reach out if you need more help with specific steps or any further analysis!"
   ]
  },
  {
   "cell_type": "markdown",
   "metadata": {},
   "source": [
    "# 1. Model Building with Decision Trees\n",
    "    1.1. Import Necessary Libraries"
   ]
  },
  {
   "cell_type": "code",
   "execution_count": 30,
   "metadata": {},
   "outputs": [],
   "source": [
    "from sklearn.tree import DecisionTreeClassifier\n",
    "from sklearn.metrics import classification_report, confusion_matrix"
   ]
  },
  {
   "cell_type": "markdown",
   "metadata": {},
   "source": [
    "# 1.2. Initialize and Train the Decision Tree Classifier"
   ]
  },
  {
   "cell_type": "code",
   "execution_count": 31,
   "metadata": {},
   "outputs": [],
   "source": [
    "# Initialize the Decision Tree Classifier\n",
    "dt_classifier = DecisionTreeClassifier(random_state=42)\n",
    "\n",
    "# Train the model\n",
    "dt_classifier.fit(X_train, y_train)\n",
    "\n",
    "# Make predictions\n",
    "dt_y_pred = dt_classifier.predict(X_test)"
   ]
  },
  {
   "cell_type": "markdown",
   "metadata": {},
   "source": [
    "1.3. Evaluate the Model"
   ]
  },
  {
   "cell_type": "code",
   "execution_count": 32,
   "metadata": {},
   "outputs": [
    {
     "name": "stdout",
     "output_type": "stream",
     "text": [
      "[[819  38]\n",
      " [ 40 103]]\n",
      "              precision    recall  f1-score   support\n",
      "\n",
      "       False       0.95      0.96      0.95       857\n",
      "        True       0.73      0.72      0.73       143\n",
      "\n",
      "    accuracy                           0.92      1000\n",
      "   macro avg       0.84      0.84      0.84      1000\n",
      "weighted avg       0.92      0.92      0.92      1000\n",
      "\n"
     ]
    }
   ],
   "source": [
    "# Evaluate the Decision Tree model\n",
    "print(confusion_matrix(y_test, dt_y_pred))\n",
    "print(classification_report(y_test, dt_y_pred))"
   ]
  },
  {
   "cell_type": "markdown",
   "metadata": {},
   "source": [
    "# 2. Model Tuning and Visualization\n",
    "   2.1. Hyperparameter Tuning\n",
    "\n",
    "Decision Trees have several hyperparameters that you can tune to improve model performance, such as max_depth, min_samples_split, and min_samples_leaf."
   ]
  },
  {
   "cell_type": "code",
   "execution_count": 33,
   "metadata": {},
   "outputs": [
    {
     "name": "stdout",
     "output_type": "stream",
     "text": [
      "Best parameters: {'max_depth': 10, 'min_samples_leaf': 2, 'min_samples_split': 5}\n",
      "[[839  18]\n",
      " [ 42 101]]\n",
      "              precision    recall  f1-score   support\n",
      "\n",
      "       False       0.95      0.98      0.97       857\n",
      "        True       0.85      0.71      0.77       143\n",
      "\n",
      "    accuracy                           0.94      1000\n",
      "   macro avg       0.90      0.84      0.87      1000\n",
      "weighted avg       0.94      0.94      0.94      1000\n",
      "\n"
     ]
    }
   ],
   "source": [
    "from sklearn.model_selection import GridSearchCV\n",
    "\n",
    "# Define the parameter grid\n",
    "param_grid = {\n",
    "    'max_depth': [None, 10, 20, 30, 40, 50],\n",
    "    'min_samples_split': [2, 5, 10],\n",
    "    'min_samples_leaf': [1, 2, 4]\n",
    "}\n",
    "\n",
    "# Initialize GridSearchCV\n",
    "grid_search = GridSearchCV(DecisionTreeClassifier(random_state=42), param_grid, cv=5, scoring='accuracy')\n",
    "\n",
    "# Fit GridSearchCV\n",
    "grid_search.fit(X_train, y_train)\n",
    "\n",
    "# Best parameters\n",
    "print(\"Best parameters:\", grid_search.best_params_)\n",
    "\n",
    "# Best model\n",
    "best_dt_classifier = grid_search.best_estimator_\n",
    "\n",
    "# Make predictions with the best model\n",
    "best_dt_y_pred = best_dt_classifier.predict(X_test)\n",
    "\n",
    "# Evaluate the best model\n",
    "print(confusion_matrix(y_test, best_dt_y_pred))\n",
    "print(classification_report(y_test, best_dt_y_pred))"
   ]
  },
  {
   "cell_type": "markdown",
   "metadata": {},
   "source": [
    "# Analysis\n",
    "Accuracy: 94% - The model is performing well overall.\n",
    "\n",
    "Precision and Recall for Churn (True):\n",
    "\n",
    "Precision: 0.85 - Of all the customers predicted to churn, 85% actually churned.\n",
    "Recall: 0.71 - Of all the customers who actually churned, 71% were correctly identified.\n",
    "F1-Score: 0.77 - The harmonic mean of precision and recall, indicating a balanced performance.\n",
    "Precision and Recall for Non-Churn (False):\n",
    "\n",
    "Precision: 0.95 - Of all the customers predicted not to churn, 95% actually did not churn.\n",
    "Recall: 0.98 - Of all the customers who did not churn, 98% were correctly identified.\n",
    "F1-Score: 0.97 - High balance between precision and recall for non-churn cases."
   ]
  },
  {
   "cell_type": "markdown",
   "metadata": {},
   "source": [
    "# 2.2. Visualize the Decision Tree\n",
    "\n",
    "Visualizing the Decision Tree can help understand how the model makes decisions."
   ]
  },
  {
   "cell_type": "code",
   "execution_count": 34,
   "metadata": {},
   "outputs": [
    {
     "name": "stdout",
     "output_type": "stream",
     "text": [
      "|--- total day minutes <= 263.55\n",
      "|   |--- customer service calls <= 3.50\n",
      "|   |   |--- international plan_yes <= 0.50\n",
      "|   |   |   |--- total day minutes <= 223.25\n",
      "|   |   |   |   |--- total eve charge <= 29.00\n",
      "|   |   |   |   |   |--- total eve charge <= 14.35\n",
      "|   |   |   |   |   |   |--- number vmail messages <= 46.50\n",
      "|   |   |   |   |   |   |   |--- account length <= 146.50\n",
      "|   |   |   |   |   |   |   |   |--- state_CO <= 0.50\n",
      "|   |   |   |   |   |   |   |   |   |--- class: False\n",
      "|   |   |   |   |   |   |   |   |--- state_CO >  0.50\n",
      "|   |   |   |   |   |   |   |   |   |--- total eve charge <= 8.98\n",
      "|   |   |   |   |   |   |   |   |   |   |--- class: True\n",
      "|   |   |   |   |   |   |   |   |   |--- total eve charge >  8.98\n",
      "|   |   |   |   |   |   |   |   |   |   |--- class: False\n",
      "|   |   |   |   |   |   |   |--- account length >  146.50\n",
      "|   |   |   |   |   |   |   |   |--- state_ID <= 0.50\n",
      "|   |   |   |   |   |   |   |   |   |--- state_MT <= 0.50\n",
      "|   |   |   |   |   |   |   |   |   |   |--- state_WY <= 0.50\n",
      "|   |   |   |   |   |   |   |   |   |   |   |--- class: False\n",
      "|   |   |   |   |   |   |   |   |   |   |--- state_WY >  0.50\n",
      "|   |   |   |   |   |   |   |   |   |   |   |--- truncated branch of depth 2\n",
      "|   |   |   |   |   |   |   |   |   |--- state_MT >  0.50\n",
      "|   |   |   |   |   |   |   |   |   |   |--- class: True\n",
      "|   |   |   |   |   |   |   |   |--- state_ID >  0.50\n",
      "|   |   |   |   |   |   |   |   |   |--- class: True\n",
      "|   |   |   |   |   |   |--- number vmail messages >  46.50\n",
      "|   |   |   |   |   |   |   |--- account length <= 139.00\n",
      "|   |   |   |   |   |   |   |   |--- class: False\n",
      "|   |   |   |   |   |   |   |--- account length >  139.00\n",
      "|   |   |   |   |   |   |   |   |--- class: True\n",
      "|   |   |   |   |   |--- total eve charge >  14.35\n",
      "|   |   |   |   |   |   |--- total eve minutes <= 169.25\n",
      "|   |   |   |   |   |   |   |--- total day charge <= 23.19\n",
      "|   |   |   |   |   |   |   |   |--- total day minutes <= 111.55\n",
      "|   |   |   |   |   |   |   |   |   |--- class: False\n",
      "|   |   |   |   |   |   |   |   |--- total day minutes >  111.55\n",
      "|   |   |   |   |   |   |   |   |   |--- class: True\n",
      "|   |   |   |   |   |   |   |--- total day charge >  23.19\n",
      "|   |   |   |   |   |   |   |   |--- class: False\n",
      "|   |   |   |   |   |   |--- total eve minutes >  169.25\n",
      "|   |   |   |   |   |   |   |--- total intl minutes <= 8.25\n",
      "|   |   |   |   |   |   |   |   |--- total day minutes <= 80.55\n",
      "|   |   |   |   |   |   |   |   |   |--- account length <= 49.00\n",
      "|   |   |   |   |   |   |   |   |   |   |--- class: True\n",
      "|   |   |   |   |   |   |   |   |   |--- account length >  49.00\n",
      "|   |   |   |   |   |   |   |   |   |   |--- class: False\n",
      "|   |   |   |   |   |   |   |   |--- total day minutes >  80.55\n",
      "|   |   |   |   |   |   |   |   |   |--- state_MS <= 0.50\n",
      "|   |   |   |   |   |   |   |   |   |   |--- class: False\n",
      "|   |   |   |   |   |   |   |   |   |--- state_MS >  0.50\n",
      "|   |   |   |   |   |   |   |   |   |   |--- total day minutes <= 205.30\n",
      "|   |   |   |   |   |   |   |   |   |   |   |--- class: False\n",
      "|   |   |   |   |   |   |   |   |   |   |--- total day minutes >  205.30\n",
      "|   |   |   |   |   |   |   |   |   |   |   |--- class: True\n",
      "|   |   |   |   |   |   |   |--- total intl minutes >  8.25\n",
      "|   |   |   |   |   |   |   |   |--- total intl charge <= 2.28\n",
      "|   |   |   |   |   |   |   |   |   |--- state_MT <= 0.50\n",
      "|   |   |   |   |   |   |   |   |   |   |--- state_ME <= 0.50\n",
      "|   |   |   |   |   |   |   |   |   |   |   |--- truncated branch of depth 2\n",
      "|   |   |   |   |   |   |   |   |   |   |--- state_ME >  0.50\n",
      "|   |   |   |   |   |   |   |   |   |   |   |--- class: True\n",
      "|   |   |   |   |   |   |   |   |   |--- state_MT >  0.50\n",
      "|   |   |   |   |   |   |   |   |   |   |--- class: True\n",
      "|   |   |   |   |   |   |   |   |--- total intl charge >  2.28\n",
      "|   |   |   |   |   |   |   |   |   |--- state_TX <= 0.50\n",
      "|   |   |   |   |   |   |   |   |   |   |--- total night calls <= 93.50\n",
      "|   |   |   |   |   |   |   |   |   |   |   |--- truncated branch of depth 5\n",
      "|   |   |   |   |   |   |   |   |   |   |--- total night calls >  93.50\n",
      "|   |   |   |   |   |   |   |   |   |   |   |--- truncated branch of depth 15\n",
      "|   |   |   |   |   |   |   |   |   |--- state_TX >  0.50\n",
      "|   |   |   |   |   |   |   |   |   |   |--- total day minutes <= 202.70\n",
      "|   |   |   |   |   |   |   |   |   |   |   |--- truncated branch of depth 2\n",
      "|   |   |   |   |   |   |   |   |   |   |--- total day minutes >  202.70\n",
      "|   |   |   |   |   |   |   |   |   |   |   |--- class: True\n",
      "|   |   |   |   |--- total eve charge >  29.00\n",
      "|   |   |   |   |   |--- total night charge <= 10.39\n",
      "|   |   |   |   |   |   |--- class: False\n",
      "|   |   |   |   |   |--- total night charge >  10.39\n",
      "|   |   |   |   |   |   |--- class: True\n",
      "|   |   |   |--- total day minutes >  223.25\n",
      "|   |   |   |   |--- total eve charge <= 22.67\n",
      "|   |   |   |   |   |--- total eve minutes <= 242.35\n",
      "|   |   |   |   |   |   |--- total eve calls <= 124.50\n",
      "|   |   |   |   |   |   |   |--- state_MO <= 0.50\n",
      "|   |   |   |   |   |   |   |   |--- account length <= 24.50\n",
      "|   |   |   |   |   |   |   |   |   |--- customer service calls <= 0.50\n",
      "|   |   |   |   |   |   |   |   |   |   |--- class: True\n",
      "|   |   |   |   |   |   |   |   |   |--- customer service calls >  0.50\n",
      "|   |   |   |   |   |   |   |   |   |   |--- class: False\n",
      "|   |   |   |   |   |   |   |   |--- account length >  24.50\n",
      "|   |   |   |   |   |   |   |   |   |--- total night minutes <= 233.15\n",
      "|   |   |   |   |   |   |   |   |   |   |--- state_MA <= 0.50\n",
      "|   |   |   |   |   |   |   |   |   |   |   |--- truncated branch of depth 4\n",
      "|   |   |   |   |   |   |   |   |   |   |--- state_MA >  0.50\n",
      "|   |   |   |   |   |   |   |   |   |   |   |--- truncated branch of depth 2\n",
      "|   |   |   |   |   |   |   |   |   |--- total night minutes >  233.15\n",
      "|   |   |   |   |   |   |   |   |   |   |--- total eve minutes <= 197.25\n",
      "|   |   |   |   |   |   |   |   |   |   |   |--- class: False\n",
      "|   |   |   |   |   |   |   |   |   |   |--- total eve minutes >  197.25\n",
      "|   |   |   |   |   |   |   |   |   |   |   |--- truncated branch of depth 3\n",
      "|   |   |   |   |   |   |   |--- state_MO >  0.50\n",
      "|   |   |   |   |   |   |   |   |--- class: True\n",
      "|   |   |   |   |   |   |--- total eve calls >  124.50\n",
      "|   |   |   |   |   |   |   |--- total night calls <= 86.00\n",
      "|   |   |   |   |   |   |   |   |--- class: True\n",
      "|   |   |   |   |   |   |   |--- total night calls >  86.00\n",
      "|   |   |   |   |   |   |   |   |--- total eve calls <= 126.50\n",
      "|   |   |   |   |   |   |   |   |   |--- class: True\n",
      "|   |   |   |   |   |   |   |   |--- total eve calls >  126.50\n",
      "|   |   |   |   |   |   |   |   |   |--- class: False\n",
      "|   |   |   |   |   |--- total eve minutes >  242.35\n",
      "|   |   |   |   |   |   |--- total day charge <= 40.34\n",
      "|   |   |   |   |   |   |   |--- class: False\n",
      "|   |   |   |   |   |   |--- total day charge >  40.34\n",
      "|   |   |   |   |   |   |   |--- total night charge <= 9.05\n",
      "|   |   |   |   |   |   |   |   |--- state_OR <= 0.50\n",
      "|   |   |   |   |   |   |   |   |   |--- class: False\n",
      "|   |   |   |   |   |   |   |   |--- state_OR >  0.50\n",
      "|   |   |   |   |   |   |   |   |   |--- class: True\n",
      "|   |   |   |   |   |   |   |--- total night charge >  9.05\n",
      "|   |   |   |   |   |   |   |   |--- voice mail plan_yes <= 0.50\n",
      "|   |   |   |   |   |   |   |   |   |--- class: True\n",
      "|   |   |   |   |   |   |   |   |--- voice mail plan_yes >  0.50\n",
      "|   |   |   |   |   |   |   |   |   |--- class: False\n",
      "|   |   |   |   |--- total eve charge >  22.67\n",
      "|   |   |   |   |   |--- number vmail messages <= 14.50\n",
      "|   |   |   |   |   |   |--- state_HI <= 0.50\n",
      "|   |   |   |   |   |   |   |--- class: True\n",
      "|   |   |   |   |   |   |--- state_HI >  0.50\n",
      "|   |   |   |   |   |   |   |--- class: False\n",
      "|   |   |   |   |   |--- number vmail messages >  14.50\n",
      "|   |   |   |   |   |   |--- class: False\n",
      "|   |   |--- international plan_yes >  0.50\n",
      "|   |   |   |--- total intl minutes <= 13.10\n",
      "|   |   |   |   |--- total intl calls <= 2.50\n",
      "|   |   |   |   |   |--- class: True\n",
      "|   |   |   |   |--- total intl calls >  2.50\n",
      "|   |   |   |   |   |--- total night charge <= 3.80\n",
      "|   |   |   |   |   |   |--- class: True\n",
      "|   |   |   |   |   |--- total night charge >  3.80\n",
      "|   |   |   |   |   |   |--- total eve charge <= 29.24\n",
      "|   |   |   |   |   |   |   |--- total day calls <= 53.50\n",
      "|   |   |   |   |   |   |   |   |--- class: True\n",
      "|   |   |   |   |   |   |   |--- total day calls >  53.50\n",
      "|   |   |   |   |   |   |   |   |--- state_VA <= 0.50\n",
      "|   |   |   |   |   |   |   |   |   |--- class: False\n",
      "|   |   |   |   |   |   |   |   |--- state_VA >  0.50\n",
      "|   |   |   |   |   |   |   |   |   |--- total night minutes <= 250.15\n",
      "|   |   |   |   |   |   |   |   |   |   |--- class: False\n",
      "|   |   |   |   |   |   |   |   |   |--- total night minutes >  250.15\n",
      "|   |   |   |   |   |   |   |   |   |   |--- class: True\n",
      "|   |   |   |   |   |   |--- total eve charge >  29.24\n",
      "|   |   |   |   |   |   |   |--- class: True\n",
      "|   |   |   |--- total intl minutes >  13.10\n",
      "|   |   |   |   |--- class: True\n",
      "|   |--- customer service calls >  3.50\n",
      "|   |   |--- total day minutes <= 165.85\n",
      "|   |   |   |--- total eve minutes <= 265.50\n",
      "|   |   |   |   |--- total day charge <= 26.09\n",
      "|   |   |   |   |   |--- state_IA <= 0.50\n",
      "|   |   |   |   |   |   |--- class: True\n",
      "|   |   |   |   |   |--- state_IA >  0.50\n",
      "|   |   |   |   |   |   |--- class: False\n",
      "|   |   |   |   |--- total day charge >  26.09\n",
      "|   |   |   |   |   |--- total eve minutes <= 190.45\n",
      "|   |   |   |   |   |   |--- class: True\n",
      "|   |   |   |   |   |--- total eve minutes >  190.45\n",
      "|   |   |   |   |   |   |--- total intl charge <= 2.66\n",
      "|   |   |   |   |   |   |   |--- class: True\n",
      "|   |   |   |   |   |   |--- total intl charge >  2.66\n",
      "|   |   |   |   |   |   |   |--- class: False\n",
      "|   |   |   |--- total eve minutes >  265.50\n",
      "|   |   |   |   |--- total intl calls <= 4.50\n",
      "|   |   |   |   |   |--- total day charge <= 25.43\n",
      "|   |   |   |   |   |   |--- class: True\n",
      "|   |   |   |   |   |--- total day charge >  25.43\n",
      "|   |   |   |   |   |   |--- class: False\n",
      "|   |   |   |   |--- total intl calls >  4.50\n",
      "|   |   |   |   |   |--- class: False\n",
      "|   |   |--- total day minutes >  165.85\n",
      "|   |   |   |--- total eve charge <= 12.66\n",
      "|   |   |   |   |--- customer service calls <= 4.50\n",
      "|   |   |   |   |   |--- state_MS <= 0.50\n",
      "|   |   |   |   |   |   |--- class: False\n",
      "|   |   |   |   |   |--- state_MS >  0.50\n",
      "|   |   |   |   |   |   |--- class: True\n",
      "|   |   |   |   |--- customer service calls >  4.50\n",
      "|   |   |   |   |   |--- total eve calls <= 51.00\n",
      "|   |   |   |   |   |   |--- class: False\n",
      "|   |   |   |   |   |--- total eve calls >  51.00\n",
      "|   |   |   |   |   |   |--- class: True\n",
      "|   |   |   |--- total eve charge >  12.66\n",
      "|   |   |   |   |--- total night calls <= 119.50\n",
      "|   |   |   |   |   |--- state_MN <= 0.50\n",
      "|   |   |   |   |   |   |--- state_WA <= 0.50\n",
      "|   |   |   |   |   |   |   |--- state_IL <= 0.50\n",
      "|   |   |   |   |   |   |   |   |--- total day calls <= 72.50\n",
      "|   |   |   |   |   |   |   |   |   |--- total day charge <= 29.88\n",
      "|   |   |   |   |   |   |   |   |   |   |--- class: True\n",
      "|   |   |   |   |   |   |   |   |   |--- total day charge >  29.88\n",
      "|   |   |   |   |   |   |   |   |   |   |--- class: False\n",
      "|   |   |   |   |   |   |   |   |--- total day calls >  72.50\n",
      "|   |   |   |   |   |   |   |   |   |--- class: False\n",
      "|   |   |   |   |   |   |   |--- state_IL >  0.50\n",
      "|   |   |   |   |   |   |   |   |--- class: True\n",
      "|   |   |   |   |   |   |--- state_WA >  0.50\n",
      "|   |   |   |   |   |   |   |--- class: True\n",
      "|   |   |   |   |   |--- state_MN >  0.50\n",
      "|   |   |   |   |   |   |--- total intl charge <= 2.46\n",
      "|   |   |   |   |   |   |   |--- class: False\n",
      "|   |   |   |   |   |   |--- total intl charge >  2.46\n",
      "|   |   |   |   |   |   |   |--- class: True\n",
      "|   |   |   |   |--- total night calls >  119.50\n",
      "|   |   |   |   |   |--- total intl calls <= 3.50\n",
      "|   |   |   |   |   |   |--- class: True\n",
      "|   |   |   |   |   |--- total intl calls >  3.50\n",
      "|   |   |   |   |   |   |--- total night minutes <= 240.10\n",
      "|   |   |   |   |   |   |   |--- class: False\n",
      "|   |   |   |   |   |   |--- total night minutes >  240.10\n",
      "|   |   |   |   |   |   |   |--- class: True\n",
      "|--- total day minutes >  263.55\n",
      "|   |--- voice mail plan_yes <= 0.50\n",
      "|   |   |--- total eve minutes <= 184.65\n",
      "|   |   |   |--- total day charge <= 52.91\n",
      "|   |   |   |   |--- total night minutes <= 210.35\n",
      "|   |   |   |   |   |--- account length <= 164.50\n",
      "|   |   |   |   |   |   |--- class: False\n",
      "|   |   |   |   |   |--- account length >  164.50\n",
      "|   |   |   |   |   |   |--- class: True\n",
      "|   |   |   |   |--- total night minutes >  210.35\n",
      "|   |   |   |   |   |--- total eve minutes <= 135.10\n",
      "|   |   |   |   |   |   |--- class: False\n",
      "|   |   |   |   |   |--- total eve minutes >  135.10\n",
      "|   |   |   |   |   |   |--- customer service calls <= 2.50\n",
      "|   |   |   |   |   |   |   |--- state_IL <= 0.50\n",
      "|   |   |   |   |   |   |   |   |--- class: True\n",
      "|   |   |   |   |   |   |   |--- state_IL >  0.50\n",
      "|   |   |   |   |   |   |   |   |--- class: False\n",
      "|   |   |   |   |   |   |--- customer service calls >  2.50\n",
      "|   |   |   |   |   |   |   |--- class: False\n",
      "|   |   |   |--- total day charge >  52.91\n",
      "|   |   |   |   |--- class: True\n",
      "|   |   |--- total eve minutes >  184.65\n",
      "|   |   |   |--- total night minutes <= 114.50\n",
      "|   |   |   |   |--- customer service calls <= 0.50\n",
      "|   |   |   |   |   |--- class: True\n",
      "|   |   |   |   |--- customer service calls >  0.50\n",
      "|   |   |   |   |   |--- class: False\n",
      "|   |   |   |--- total night minutes >  114.50\n",
      "|   |   |   |   |--- total day calls <= 147.50\n",
      "|   |   |   |   |   |--- state_ID <= 0.50\n",
      "|   |   |   |   |   |   |--- total night minutes <= 127.00\n",
      "|   |   |   |   |   |   |   |--- total day calls <= 91.00\n",
      "|   |   |   |   |   |   |   |   |--- class: False\n",
      "|   |   |   |   |   |   |   |--- total day calls >  91.00\n",
      "|   |   |   |   |   |   |   |   |--- class: True\n",
      "|   |   |   |   |   |   |--- total night minutes >  127.00\n",
      "|   |   |   |   |   |   |   |--- class: True\n",
      "|   |   |   |   |   |--- state_ID >  0.50\n",
      "|   |   |   |   |   |   |--- total night minutes <= 178.05\n",
      "|   |   |   |   |   |   |   |--- class: False\n",
      "|   |   |   |   |   |   |--- total night minutes >  178.05\n",
      "|   |   |   |   |   |   |   |--- class: True\n",
      "|   |   |   |   |--- total day calls >  147.50\n",
      "|   |   |   |   |   |--- class: False\n",
      "|   |--- voice mail plan_yes >  0.50\n",
      "|   |   |--- international plan_yes <= 0.50\n",
      "|   |   |   |--- class: False\n",
      "|   |   |--- international plan_yes >  0.50\n",
      "|   |   |   |--- total day charge <= 47.60\n",
      "|   |   |   |   |--- class: True\n",
      "|   |   |   |--- total day charge >  47.60\n",
      "|   |   |   |   |--- area code <= 462.50\n",
      "|   |   |   |   |   |--- class: False\n",
      "|   |   |   |   |--- area code >  462.50\n",
      "|   |   |   |   |   |--- class: True\n",
      "\n"
     ]
    }
   ],
   "source": [
    "from sklearn.tree import export_text\n",
    "\n",
    "# Print textual representation of the decision tree\n",
    "tree_rules = export_text(dt_classifier, feature_names=list(X.columns))\n",
    "print(tree_rules)"
   ]
  },
  {
   "cell_type": "code",
   "execution_count": 35,
   "metadata": {},
   "outputs": [
    {
     "data": {
      "image/png": "[encoded data removed]",
      "text/plain": [
       "<Figure size 1440x720 with 1 Axes>"
      ]
     },
     "metadata": {
      "needs_background": "light"
     },
     "output_type": "display_data"
    }
   ],
   "source": [
    "from sklearn.tree import plot_tree\n",
    "\n",
    "plt.figure(figsize=(20,10))\n",
    "plot_tree(dt_classifier, feature_names=X.columns, class_names=['Not Churn', 'Churn'], filled=True)\n",
    "plt.show()"
   ]
  },
  {
   "cell_type": "markdown",
   "metadata": {},
   "source": [
    "# 3. Feature Importance\n",
    "   3.1. Analyze Feature Importance\n",
    "\n",
    "Determine which features are most influential in predicting churn."
   ]
  },
  {
   "cell_type": "code",
   "execution_count": 36,
   "metadata": {},
   "outputs": [
    {
     "name": "stdout",
     "output_type": "stream",
     "text": [
      "                   Feature  Importance\n",
      "3        total day minutes    0.197097\n",
      "15  customer service calls    0.116224\n",
      "13        total intl calls    0.091070\n",
      "66  international plan_yes    0.078055\n",
      "12      total intl minutes    0.070569\n",
      "..                     ...         ...\n",
      "54                state_RI    0.000000\n",
      "43                state_ND    0.000000\n",
      "45                state_NH    0.000000\n",
      "51                state_OK    0.000000\n",
      "21                state_CT    0.000000\n",
      "\n",
      "[68 rows x 2 columns]\n"
     ]
    }
   ],
   "source": [
    "importances = dt_classifier.feature_importances_\n",
    "feature_names = X.columns\n",
    "\n",
    "# Create a DataFrame for feature importances\n",
    "feature_importance_df = pd.DataFrame({'Feature': feature_names, 'Importance': importances})\n",
    "feature_importance_df = feature_importance_df.sort_values(by='Importance', ascending=False)\n",
    "\n",
    "print(feature_importance_df)"
   ]
  },
  {
   "cell_type": "markdown",
   "metadata": {},
   "source": [
    "# 4. Model Evaluation\n",
    "  \n",
    "  4.1. ROC Curve and AUC"
   ]
  },
  {
   "cell_type": "code",
   "execution_count": 37,
   "metadata": {},
   "outputs": [
    {
     "data": {
      "image/png": "[encoded data removed]",
      "text/plain": [
       "<Figure size 432x288 with 1 Axes>"
      ]
     },
     "metadata": {
      "needs_background": "light"
     },
     "output_type": "display_data"
    }
   ],
   "source": [
    "from sklearn.metrics import roc_curve, auc\n",
    "\n",
    "# Get the probability scores\n",
    "dt_y_probs = dt_classifier.predict_proba(X_test)[:, 1]\n",
    "\n",
    "# Compute ROC curve and AUC\n",
    "fpr, tpr, _ = roc_curve(y_test, dt_y_probs)\n",
    "roc_auc = auc(fpr, tpr)\n",
    "\n",
    "plt.figure()\n",
    "plt.plot(fpr, tpr, color='darkorange', lw=2, label=f'ROC curve (area = {roc_auc:.2f})')\n",
    "plt.plot([0, 1], [0, 1], color='navy', lw=2, linestyle='--')\n",
    "plt.xlim([0.0, 1.0])\n",
    "plt.ylim([0.0, 1.05])\n",
    "plt.xlabel('False Positive Rate')\n",
    "plt.ylabel('True Positive Rate')\n",
    "plt.title('Receiver Operating Characteristic')\n",
    "plt.legend(loc='lower right')\n",
    "plt.show()"
   ]
  },
  {
   "cell_type": "markdown",
   "metadata": {},
   "source": []
  }
 ],
 "metadata": {
  "kernelspec": {
   "display_name": "learn-env",
   "language": "python",
   "name": "python3"
  },
  "language_info": {
   "codemirror_mode": {
    "name": "ipython",
    "version": 3
   },
   "file_extension": ".py",
   "mimetype": "text/x-python",
   "name": "python",
   "nbconvert_exporter": "python",
   "pygments_lexer": "ipython3",
   "version": "3.8.5"
  }
 },
 "nbformat": 4,
 "nbformat_minor": 2
}
